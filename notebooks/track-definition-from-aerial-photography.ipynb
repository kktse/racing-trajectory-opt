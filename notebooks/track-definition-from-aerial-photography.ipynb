{
 "cells": [
  {
   "cell_type": "code",
   "execution_count": null,
   "metadata": {},
   "outputs": [],
   "source": [
    "import cv2\n",
    "import scipy.signal\n",
    "import numpy as np\n",
    "import matplotlib.pyplot as plt\n",
    "import shapely  # library to solve the point in polygoin problem"
   ]
  },
  {
   "cell_type": "code",
   "execution_count": null,
   "metadata": {},
   "outputs": [],
   "source": [
    "%matplotlib notebook"
   ]
  },
  {
   "cell_type": "code",
   "execution_count": null,
   "metadata": {},
   "outputs": [],
   "source": [
    "img = cv2.imread('TMP.png', 0)\n",
    "img"
   ]
  },
  {
   "cell_type": "code",
   "execution_count": null,
   "metadata": {},
   "outputs": [],
   "source": [
    "plt.figure()\n",
    "plt.imshow(img)\n",
    "plt.show()"
   ]
  },
  {
   "cell_type": "code",
   "execution_count": null,
   "metadata": {},
   "outputs": [],
   "source": [
    "# Find contours\n",
    "# ret, thresh = cv2.threshold(img, 127, 255, 0)\n",
    "contours, hierarchy = cv2.findContours(img, cv2.RETR_TREE, cv2.CHAIN_APPROX_NONE)"
   ]
  },
  {
   "cell_type": "code",
   "execution_count": null,
   "metadata": {},
   "outputs": [],
   "source": [
    "draw = np.copy(img)\n",
    "cv2.drawContours(draw, contours, 1, 127, 20)\n",
    "cv2.drawContours(draw, contours, 2, 127, 20)\n",
    "\n",
    "plt.figure()\n",
    "plt.imshow(draw)\n",
    "plt.show()"
   ]
  },
  {
   "cell_type": "code",
   "execution_count": null,
   "metadata": {},
   "outputs": [],
   "source": [
    "inner_contour = contours[2]\n",
    "outer_contour = contours[1]"
   ]
  },
  {
   "cell_type": "code",
   "execution_count": null,
   "metadata": {},
   "outputs": [],
   "source": [
    "inner_contour = contours[2]\n",
    "outer_contour = contours[1]\n",
    "\n",
    "x,y = inner_contour.T\n",
    "x = scipy.signal.decimate(x.astype(np.float32), 10, ftype='iir', n=3)[0]\n",
    "y = scipy.signal.decimate(y.astype(np.float32), 10, ftype='iir', n=3)[0]\n",
    "inner_contour = {\"x\": x, \"y\": y}\n",
    "\n",
    "\n",
    "x,y = outer_contour.T\n",
    "x = scipy.signal.decimate(x.astype(np.float32), 10, ftype='iir', n=3)[0]\n",
    "y = scipy.signal.decimate(y.astype(np.float32), 10, ftype='iir', n=3)[0]\n",
    "outer_contour = {\"x\": x, \"y\": y}"
   ]
  },
  {
   "cell_type": "code",
   "execution_count": null,
   "metadata": {},
   "outputs": [],
   "source": [
    "plt.figure()\n",
    "\n",
    "plt.scatter(inner_contour['x'],\n",
    "            inner_contour['y'],\n",
    "            s=2)\n",
    "\n",
    "plt.scatter(outer_contour['x'],\n",
    "            outer_contour['y'],\n",
    "            s=2)\n",
    "\n",
    "plt.axis('scaled')\n",
    "plt.gca().invert_yaxis()\n",
    "\n",
    "plt.show()"
   ]
  },
  {
   "cell_type": "code",
   "execution_count": null,
   "metadata": {},
   "outputs": [],
   "source": [
    "inner_contour['dx'] = np.gradient(inner_contour['x'])\n",
    "inner_contour['dy'] = np.gradient(inner_contour['y'])\n",
    "outer_contour['dx'] = np.gradient(outer_contour['x'])\n",
    "outer_contour['dy'] = np.gradient(outer_contour['y'])\n",
    "\n",
    "# Fix the differences at the tails\n",
    "inner_contour['dx'][0] = 0.5 * (inner_contour['x'][-1] - inner_contour['x'][1])\n",
    "inner_contour['dx'][-1] = 0.5 * (inner_contour['x'][-2] - inner_contour['x'][0])\n",
    "inner_contour['dy'][0] = 0.5 * (inner_contour['y'][-1] - inner_contour['y'][1])\n",
    "inner_contour['dy'][-1] = 0.5 * (inner_contour['y'][-2] - inner_contour['y'][0])\n",
    "\n",
    "outer_contour['dx'][0] = 0.5 * (outer_contour['x'][-1] - outer_contour['x'][1])\n",
    "outer_contour['dx'][-1] = 0.5 * (outer_contour['x'][-2] - outer_contour['x'][0])\n",
    "outer_contour['dy'][0] = 0.5 * (outer_contour['y'][-1] - outer_contour['y'][1])\n",
    "outer_contour['dy'][-1] = 0.5 * (outer_contour['y'][-2] - outer_contour['y'][0])\n",
    "\n",
    "# Calculate the slope\n",
    "inner_contour['m'] = inner_contour['dy'] / inner_contour['dx']\n",
    "inner_contour['mp'] = 1 / inner_contour['m']"
   ]
  },
  {
   "cell_type": "code",
   "execution_count": null,
   "metadata": {},
   "outputs": [],
   "source": [
    "fig, ax = plt.subplots(2,2,sharex=True)\n",
    "\n",
    "n = np.arange(0, len(inner_contour['x']))\n",
    "\n",
    "ax[0,0].plot(n, inner_contour['x'])\n",
    "ax[1,0].plot(n, inner_contour['dx'])\n",
    "\n",
    "ax[0,1].plot(n, inner_contour['y'])\n",
    "ax[1,1].plot(n, inner_contour['dy'])\n",
    "\n",
    "plt.show()\n",
    "\n",
    "plt.figure()\n",
    "plt.plot(n, inner_contour['mp'])"
   ]
  },
  {
   "cell_type": "code",
   "execution_count": null,
   "metadata": {},
   "outputs": [],
   "source": []
  },
  {
   "cell_type": "code",
   "execution_count": null,
   "metadata": {},
   "outputs": [],
   "source": []
  }
 ],
 "metadata": {
  "kernelspec": {
   "display_name": "Python 3",
   "language": "python",
   "name": "python3"
  },
  "language_info": {
   "codemirror_mode": {
    "name": "ipython",
    "version": 3
   },
   "file_extension": ".py",
   "mimetype": "text/x-python",
   "name": "python",
   "nbconvert_exporter": "python",
   "pygments_lexer": "ipython3",
   "version": "3.6.5"
  }
 },
 "nbformat": 4,
 "nbformat_minor": 2
}
