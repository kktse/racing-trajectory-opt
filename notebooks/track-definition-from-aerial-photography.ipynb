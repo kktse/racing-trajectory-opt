{
 "cells": [
  {
   "cell_type": "markdown",
   "metadata": {},
   "source": [
    "# Track definition from aerial photography\n",
    "Generate a parameterized track definition from a masked image based on aerial photography.\n",
    "\n",
    "The goal of this notebook is to determine the track centreline, track width and length from a pre-masked image, likely based on aerial photography."
   ]
  },
  {
   "cell_type": "markdown",
   "metadata": {},
   "source": [
    "# Approach\n",
    "## Point array of inner and outer contours\n",
    "Given an image mask of a race track, identify the inner and outer contours of the racing circuit assuming the track is closed.\n",
    "\n",
    "Let:\n",
    "* $x_{in}^i, y_{in}^i, i = 1, 2, ..., n$ represent the inner contour of the track\n",
    "* $x_{out}^j, y_{out}^j, j = 1, 2, ..., m$ represent the outer contour of the track\n",
    "\n",
    "Where $x_{in}, y_{in}$ and $x_{out}, y_{out}$ are identified using image processing techniques\n",
    "\n",
    "## Perpendicular direction vector from inner contour\n",
    "Given a point $x_{in}^i, y_{in}^i$, find the gradient at that point $dx_{in}^i, dy_{in}^i$. The tangent and normal vectors to the point are defined as:\n",
    "\n",
    "$\\vec{t}_{in}^i = [dx_{in}^i, dy_{in}^i]^T$\n",
    "\n",
    "$\\vec{n}_{in}^i = [dy_{in}^i, -dx_{in}^i]^T$\n",
    "\n",
    "The values of $dx$ and $dy$ are calculated using a central difference.\n",
    "\n",
    "## Nearest Neighbours\n",
    "Find the nearest outer neighbour of a given point on the inner contour. Calculate the magnitude of the vector from the outer contour to a given inner contour.\n",
    "\n",
    "$d = |p_{out} - p_{in}^i|$\n",
    "\n",
    "$d_{nearest} = \\min(d)$\n",
    "\n",
    "\n",
    "## Identify intercept\n",
    "Parametrically define the equations of two lines.\n",
    "\n",
    "$x_{inner} = x_{in}^i + (x_{n,in}^i - x_{in}^i) s$\n",
    "\n",
    "$y_{inner} = y_{in}^i + (y_{n,in}^i - y_{in}^i) s$\n",
    "\n",
    "$x_{outer} = x_{out}^i + (x_{out}^{i+1} - x_{out}^i) t$\n",
    "\n",
    "$y_{inner} = y_{out}^i + (y_{out}^{i+1} - y_{out}^i) t$\n",
    "\n",
    "If the solution is $0 < t < 1$, this means the intersection lies between the outer point and its adjacent point.\n",
    "\n",
    "If the solution is not $0 < t < 1$, try the other adjacent point on the outer contour. If this fails, then reject the nearest neighbour and find the next closest point."
   ]
  },
  {
   "cell_type": "code",
   "execution_count": null,
   "metadata": {},
   "outputs": [],
   "source": [
    "%matplotlib notebook\n",
    "\n",
    "import cv2\n",
    "import scipy.signal\n",
    "import numpy as np\n",
    "import matplotlib.pyplot as plt\n",
    "import pykalman\n",
    "\n",
    "# Parallelism\n",
    "import time\n",
    "import psutil \n",
    "from joblib import Parallel, delayed\n",
    "\n",
    "cpus = psutil.cpu_count(logical=False)"
   ]
  },
  {
   "cell_type": "markdown",
   "metadata": {},
   "source": [
    "## Read the initial image and find inner/outer track limits\n",
    "Open a pre-masked image and process it with OpenCV. The track surface is represented by the pixels in black, and non-track surfaces are represented by the pixles in white.\n",
    "\n",
    "The goal using OpenCV is to:\n",
    "* Read in the image\n",
    "* Identify the inner and outer contours of the race track\n",
    "* Filter and decimate the data points representing the contours"
   ]
  },
  {
   "cell_type": "code",
   "execution_count": null,
   "metadata": {},
   "outputs": [],
   "source": [
    "img = cv2.imread('TMP.png', 0)\n",
    "img = img[::-1]  # flip for +E, +N to correspond to +x, +y"
   ]
  },
  {
   "cell_type": "code",
   "execution_count": null,
   "metadata": {},
   "outputs": [],
   "source": [
    "plt.figure()\n",
    "plt.imshow(img)\n",
    "plt.gca().invert_yaxis()\n",
    "plt.show()"
   ]
  },
  {
   "cell_type": "code",
   "execution_count": null,
   "metadata": {},
   "outputs": [],
   "source": [
    "# Initialize result\n",
    "track_def = dict()"
   ]
  },
  {
   "cell_type": "code",
   "execution_count": null,
   "metadata": {},
   "outputs": [],
   "source": [
    "# Find contours\n",
    "contours, hierarchy = cv2.findContours(img, cv2.RETR_TREE, cv2.CHAIN_APPROX_NONE)\n",
    "track_def['points_inner'] = np.array([(z[0][0], z[0][1]) for z in contours[2]])\n",
    "track_def['points_outer'] = np.array([(z[0][0], z[0][1]) for z in contours[1]])"
   ]
  },
  {
   "cell_type": "code",
   "execution_count": null,
   "metadata": {},
   "outputs": [],
   "source": [
    "def decimate_and_filter(signal, factor, ftype, n):\n",
    "    return scipy.signal.decimate(signal.astype(np.float32), factor, ftype=ftype, n=n)\n",
    "\n",
    "\n",
    "def decimate_and_filter_contour(contour, factor, ftype, n):\n",
    "    x, y = contour.T\n",
    "    return np.column_stack((decimate_and_filter(x, factor, ftype, n),\n",
    "                            decimate_and_filter(y, factor, ftype, n)))\n",
    "\n",
    "# Decimation filter design\n",
    "filter_type = 'iir'\n",
    "filter_order = 5\n",
    "\n",
    "# Filter and decimate contour signals\n",
    "track_def['points_inner'] = decimate_and_filter_contour(track_def['points_inner'],\n",
    "                                                        10,\n",
    "                                                        filter_type,\n",
    "                                                        filter_order)\n",
    "\n",
    "track_def['points_outer'] = decimate_and_filter_contour(track_def['points_outer'],\n",
    "                                                        5,\n",
    "                                                        filter_type,\n",
    "                                                        filter_order)"
   ]
  },
  {
   "cell_type": "code",
   "execution_count": null,
   "metadata": {
    "scrolled": false
   },
   "outputs": [],
   "source": [
    "plt.figure()\n",
    "\n",
    "plt.scatter(track_def['points_inner'].T[0], track_def['points_inner'].T[1], s=2)\n",
    "plt.scatter(track_def['points_outer'].T[0], track_def['points_outer'].T[1], s=2)\n",
    "\n",
    "plt.axis('scaled')\n",
    "plt.show()"
   ]
  },
  {
   "cell_type": "markdown",
   "metadata": {},
   "source": [
    "## Find the gradient of the inner contour\n"
   ]
  },
  {
   "cell_type": "code",
   "execution_count": null,
   "metadata": {},
   "outputs": [],
   "source": [
    "def gradient_closed_array(array):\n",
    "    # Calculates the gradient of an array using central differences\n",
    "    # Corrects the gradient at the tails assuming array is circular\n",
    "    gradient = np.gradient(array)\n",
    "    gradient[0] = 0.5 * (array[1] - array[-1])\n",
    "    gradient[-1] = 0.5 * (array[0] - array[-2])\n",
    "    return gradient\n",
    "\n",
    "\n",
    "def gradient_closed_contour(contour):\n",
    "    x, y = contour.T\n",
    "    return np.column_stack((gradient_closed_array(x),\n",
    "                            gradient_closed_array(y)))\n",
    "    \n",
    "\n",
    "track_def['dpoints_inner'] = gradient_closed_contour(track_def['points_inner'])\n",
    "track_def['dpoints_outer'] = gradient_closed_contour(track_def['points_outer'])"
   ]
  },
  {
   "cell_type": "code",
   "execution_count": null,
   "metadata": {},
   "outputs": [],
   "source": [
    "plt.figure()\n",
    "plt.plot(track_def['points_outer'].T[0])\n",
    "plt.show()"
   ]
  },
  {
   "cell_type": "markdown",
   "metadata": {},
   "source": [
    "## Find the opposing point on the outer contour\n",
    "Given an inner point, find the nearest outer neighbour and check if the perpendicular line intersects between any adjacent points. If the intersection does not lie between the two outer points, recursively call the algorithm rejecting the current nearest neighbour."
   ]
  },
  {
   "cell_type": "code",
   "execution_count": null,
   "metadata": {
    "scrolled": false
   },
   "outputs": [],
   "source": [
    "def find_parametric_intersection(p1, p2, p3, p4):\n",
    "    p43 = p4 - p3\n",
    "    p31 = p3 - p1\n",
    "    p21 = p2 - p1\n",
    "    \n",
    "    s = (p43[0] * p31[1] - p31[0] * p43[1]) / (p43[0] * p21[1] - p21[0] * p43[1])\n",
    "    t = (p21[0] * p31[1] - p31[0] * p21[1]) / (p43[0] * p21[1] - p21[0] * p43[1])\n",
    "\n",
    "    return (s, t)\n",
    "  \n",
    "    \n",
    "def find_opposing_point(inner_point, inner_derivative, outer_points, indices):\n",
    "    \"\"\" Finds the perpendicular vector that intersects the outer points, recusively\"\"\"\n",
    "    # Vector perpendicular to the derivative\n",
    "    inner_perpendicular = np.copy(inner_derivative[::-1])\n",
    "    inner_perpendicular[1] *= -1\n",
    "    \n",
    "    # Compute the distance from the inner point to all the outer points\n",
    "    direction_magnitudes = np.array([np.linalg.norm(vector) for vector in outer_points[indices] - inner_point])\n",
    "    \n",
    "    # Find the nearest neighbour  \n",
    "    array_index = np.argmin(direction_magnitudes)\n",
    "    position_index = indices[array_index]\n",
    "    outer_point = outer_points[position_index]\n",
    "    \n",
    "    for adjacent in [-1, 1]:\n",
    "        # Find the adjacent point to the selected nearest neighbour\n",
    "        adjacent_point = outer_points[(position_index+adjacent) % len(outer_points)]\n",
    "\n",
    "        # Find the intersection\n",
    "        s, t = find_parametric_intersection(inner_point,\n",
    "                                            inner_point + inner_perpendicular,\n",
    "                                            outer_point,\n",
    "                                            adjacent_point)\n",
    "        \n",
    "        # Return if perpendicular line inserects with the outer section\n",
    "        if (0 < t < 1):\n",
    "            return inner_point + inner_perpendicular * s\n",
    "    \n",
    "    # Recursively find the opposing point\n",
    "    return find_opposing_point(inner_point, \n",
    "                               inner_derivative, \n",
    "                               outer_points,\n",
    "                               np.delete(indices, array_index, axis=0))\n",
    "    \n",
    "# Preprocessing\n",
    "inner_points = track_def['points_inner']\n",
    "outer_points = track_def['points_outer']\n",
    "inner_derivatives = track_def['dpoints_inner']\n",
    "\n",
    "# Calculate the 'opposing' points\n",
    "# Parallelism\n",
    "indices = np.arange(0, len(outer_points))\n",
    "arg_instances = [(inner_points[idx], inner_derivatives[idx], outer_points, indices) for idx, _ in enumerate(inner_points)]\n",
    "opposing_points = Parallel(n_jobs=cpus)((delayed(find_opposing_point)(*args) for args in arg_instances))\n",
    "\n",
    "# opposing_points = np.empty(inner_points.shape)\n",
    "# for idx, _ in enumerate(opposing_points):\n",
    "#     indices = np.arange(0, len(outer_points))\n",
    "#     opposing_points[idx] = find_opposing_point(inner_points[idx], inner_derivatives[idx], outer_points, indices)\n",
    "\n",
    "# Post processing of parameters\n",
    "track_def['points_opposing'] = np.array(opposing_points)\n",
    "track_def['points_centreline'] = 0.5 * (track_def['points_opposing'] + track_def['points_inner'])\n",
    "track_def['track_width'] = np.array([np.linalg.norm(vector) for vector in track_def['points_opposing'] - track_def['points_inner']])\n",
    "track_def['track_dist'] = np.concatenate(([0], np.cumsum(np.sqrt(np.sum(np.diff(track_def['points_centreline'], axis=0)**2, axis=1)))))"
   ]
  },
  {
   "cell_type": "code",
   "execution_count": null,
   "metadata": {},
   "outputs": [],
   "source": [
    "# Generate an initial estimate of the track curvature\n",
    "ds = gradient_closed_array(track_def['track_dist'])\n",
    "dcx = gradient_closed_array(track_def['points_centreline'].T[0])\n",
    "ddcx = gradient_closed_array(dcx)\n",
    "dcy = gradient_closed_array(track_def['points_centreline'].T[1])\n",
    "ddcy = gradient_closed_array(dcy)\n",
    "\n",
    "# Calculate derivatives\n",
    "dcx_ds = dcx / ds\n",
    "dcy_ds = dcy / ds\n",
    "d2cx_dds2 = ddcx / ds / ds\n",
    "d2cy_dds2 = ddcy / ds / ds\n",
    "\n",
    "track_def['curvature'] = (dcx_ds * d2cy_dds2 - dcy_ds * d2cx_dds2) / (dcx_ds**2 + dcy_ds**2) ** 1.5"
   ]
  },
  {
   "cell_type": "code",
   "execution_count": null,
   "metadata": {},
   "outputs": [],
   "source": [
    "plt.figure()\n",
    "plt.plot(track_def['track_dist'], track_def['curvature'])\n",
    "plt.show()\n",
    "\n",
    "plt.figure()\n",
    "plt.plot(track_def['track_dist'], track_def['track_width'])\n",
    "plt.show()"
   ]
  },
  {
   "cell_type": "markdown",
   "metadata": {},
   "source": [
    "## Visualize results with source image"
   ]
  },
  {
   "cell_type": "code",
   "execution_count": null,
   "metadata": {},
   "outputs": [],
   "source": [
    "ref_img = cv2.imread('USGS_IMAGERY_TORONTO_MOTORSPORTS_PARK_2008_CROP.png')\n",
    "ref_img = ref_img[::-1]  # flip for +E, +N to correspond to +x, +y\n",
    "\n",
    "plt.figure()\n",
    "plt.imshow(ref_img, alpha=0.7)\n",
    "plt.gca().invert_yaxis()\n",
    "\n",
    "xs = np.column_stack((track_def['points_inner'].T[0], track_def['points_opposing'].T[0]))\n",
    "ys = np.column_stack((track_def['points_inner'].T[1], track_def['points_opposing'].T[1]))\n",
    "\n",
    "factor = 5\n",
    "plt.plot(xs, ys, c='black')\n",
    "plt.plot(xs[::factor].T, ys[::factor].T, c='gray')\n",
    "plt.plot(track_def['points_centreline'].T[0], track_def['points_centreline'].T[1])\n",
    "plt.plot(xs[0].T, ys[0].T, c='red')\n",
    "\n",
    "plt.show()"
   ]
  },
  {
   "cell_type": "code",
   "execution_count": null,
   "metadata": {},
   "outputs": [],
   "source": []
  }
 ],
 "metadata": {
  "kernelspec": {
   "display_name": "racing-tracjectory-opt",
   "language": "python",
   "name": "racing-tracjectory-opt"
  },
  "language_info": {
   "codemirror_mode": {
    "name": "ipython",
    "version": 3
   },
   "file_extension": ".py",
   "mimetype": "text/x-python",
   "name": "python",
   "nbconvert_exporter": "python",
   "pygments_lexer": "ipython3",
   "version": "3.7.3"
  }
 },
 "nbformat": 4,
 "nbformat_minor": 2
}
